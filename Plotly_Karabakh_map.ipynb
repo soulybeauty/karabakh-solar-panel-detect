{
 "cells": [
  {
   "cell_type": "code",
   "execution_count": 17,
   "id": "bd35bc7c",
   "metadata": {},
   "outputs": [],
   "source": [
    "import pandas as pd\n",
    "import numpy as np\n",
    "import seaborn as sns\n",
    "import matplotlib.pyplot as plt\n",
    "%matplotlib inline\n",
    "import json\n",
    "import geojson\n",
    "import plotly.express as px"
   ]
  },
  {
   "cell_type": "markdown",
   "id": "f63e7ec7",
   "metadata": {},
   "source": [
    "# Loading created data frame"
   ]
  },
  {
   "cell_type": "code",
   "execution_count": 2,
   "id": "848351a4",
   "metadata": {},
   "outputs": [],
   "source": [
    "df_kar = pd.read_csv(\"final_karabakh.csv\")"
   ]
  },
  {
   "cell_type": "code",
   "execution_count": 3,
   "id": "24af32d9",
   "metadata": {},
   "outputs": [],
   "source": [
    "df_kar.COUNTY.replace({\n",
    "    \"Zengilan\":\"Zəngilan rayonu\",\n",
    "    \"Gubadli\":\"Qubadlı rayonu\",\n",
    "    \"Cebrayil\":'Cəbrayıl rayonu',\n",
    "    \"Lacin\":'Laçin rayonu',\n",
    "    \"Susa\":\"Şuşa şəhər\",\n",
    "    \"Xankendi\":\"Xankəndi  şəhər\",\n",
    "    \"Fuzuli\":\"Füzuli rayonu\",\n",
    "    \"Agdam\":\"Ağdam rayonu\",\n",
    "    \"Kelbecer\":\"Kəlbəcər rayonu\",\n",
    "    \"Xocavend\":\"Xocavənd rayonu\",\n",
    "    \"Xocali\":\"Əsgəran rayonu\",\n",
    "    \"Terter\":'Tərtər rayonu'\n",
    "                     },inplace=True)"
   ]
  },
  {
   "cell_type": "code",
   "execution_count": 4,
   "id": "8f009b22",
   "metadata": {},
   "outputs": [],
   "source": [
    "df_kar.rename({\"COUNTY\":\"Region\"},axis=1,inplace=True)"
   ]
  },
  {
   "cell_type": "code",
   "execution_count": 5,
   "id": "37cc87e0",
   "metadata": {},
   "outputs": [
    {
     "data": {
      "text/html": [
       "<div>\n",
       "<style scoped>\n",
       "    .dataframe tbody tr th:only-of-type {\n",
       "        vertical-align: middle;\n",
       "    }\n",
       "\n",
       "    .dataframe tbody tr th {\n",
       "        vertical-align: top;\n",
       "    }\n",
       "\n",
       "    .dataframe thead th {\n",
       "        text-align: right;\n",
       "    }\n",
       "</style>\n",
       "<table border=\"1\" class=\"dataframe\">\n",
       "  <thead>\n",
       "    <tr style=\"text-align: right;\">\n",
       "      <th></th>\n",
       "      <th>Region</th>\n",
       "      <th>PVOUT_MIN</th>\n",
       "      <th>PVOUT_MAX</th>\n",
       "      <th>DNI_MIN</th>\n",
       "      <th>DNI_MAX</th>\n",
       "      <th>GHI_MIN</th>\n",
       "      <th>GHI_MAX</th>\n",
       "      <th>DIF_MIN</th>\n",
       "      <th>DIF_MAX</th>\n",
       "      <th>GTI_MIN</th>\n",
       "      <th>GTI_MAX</th>\n",
       "      <th>OPTA_MIN</th>\n",
       "      <th>OPTA_MAX</th>\n",
       "      <th>TEMP_MIN</th>\n",
       "      <th>TEMP_MAX</th>\n",
       "    </tr>\n",
       "  </thead>\n",
       "  <tbody>\n",
       "    <tr>\n",
       "      <th>0</th>\n",
       "      <td>Zəngilan rayonu</td>\n",
       "      <td>3.76</td>\n",
       "      <td>4.04</td>\n",
       "      <td>3.57</td>\n",
       "      <td>3.96</td>\n",
       "      <td>4.07</td>\n",
       "      <td>4.31</td>\n",
       "      <td>1.76</td>\n",
       "      <td>1.90</td>\n",
       "      <td>4.60</td>\n",
       "      <td>4.96</td>\n",
       "      <td>33.0</td>\n",
       "      <td>34.0</td>\n",
       "      <td>9.2</td>\n",
       "      <td>15.2</td>\n",
       "    </tr>\n",
       "    <tr>\n",
       "      <th>1</th>\n",
       "      <td>Qubadlı rayonu</td>\n",
       "      <td>3.82</td>\n",
       "      <td>4.07</td>\n",
       "      <td>3.64</td>\n",
       "      <td>3.99</td>\n",
       "      <td>4.04</td>\n",
       "      <td>4.28</td>\n",
       "      <td>1.77</td>\n",
       "      <td>1.88</td>\n",
       "      <td>4.61</td>\n",
       "      <td>4.94</td>\n",
       "      <td>33.0</td>\n",
       "      <td>34.0</td>\n",
       "      <td>7.7</td>\n",
       "      <td>12.8</td>\n",
       "    </tr>\n",
       "    <tr>\n",
       "      <th>2</th>\n",
       "      <td>Cəbrayıl rayonu</td>\n",
       "      <td>3.94</td>\n",
       "      <td>4.12</td>\n",
       "      <td>3.82</td>\n",
       "      <td>4.12</td>\n",
       "      <td>4.22</td>\n",
       "      <td>4.34</td>\n",
       "      <td>1.77</td>\n",
       "      <td>1.90</td>\n",
       "      <td>4.84</td>\n",
       "      <td>5.02</td>\n",
       "      <td>NaN</td>\n",
       "      <td>NaN</td>\n",
       "      <td>NaN</td>\n",
       "      <td>NaN</td>\n",
       "    </tr>\n",
       "    <tr>\n",
       "      <th>3</th>\n",
       "      <td>Laçin rayonu</td>\n",
       "      <td>3.71</td>\n",
       "      <td>4.33</td>\n",
       "      <td>3.41</td>\n",
       "      <td>4.56</td>\n",
       "      <td>3.84</td>\n",
       "      <td>4.36</td>\n",
       "      <td>1.68</td>\n",
       "      <td>1.82</td>\n",
       "      <td>4.40</td>\n",
       "      <td>5.10</td>\n",
       "      <td>33.0</td>\n",
       "      <td>36.0</td>\n",
       "      <td>-2.3</td>\n",
       "      <td>8.7</td>\n",
       "    </tr>\n",
       "    <tr>\n",
       "      <th>4</th>\n",
       "      <td>Şuşa şəhər</td>\n",
       "      <td>3.52</td>\n",
       "      <td>4.00</td>\n",
       "      <td>3.21</td>\n",
       "      <td>3.86</td>\n",
       "      <td>3.73</td>\n",
       "      <td>4.13</td>\n",
       "      <td>1.70</td>\n",
       "      <td>1.79</td>\n",
       "      <td>4.20</td>\n",
       "      <td>4.80</td>\n",
       "      <td>34.0</td>\n",
       "      <td>35.0</td>\n",
       "      <td>2.9</td>\n",
       "      <td>8.2</td>\n",
       "    </tr>\n",
       "    <tr>\n",
       "      <th>5</th>\n",
       "      <td>Əsgəran rayonu</td>\n",
       "      <td>3.33</td>\n",
       "      <td>3.82</td>\n",
       "      <td>2.92</td>\n",
       "      <td>3.58</td>\n",
       "      <td>3.54</td>\n",
       "      <td>3.94</td>\n",
       "      <td>1.70</td>\n",
       "      <td>1.83</td>\n",
       "      <td>3.96</td>\n",
       "      <td>4.55</td>\n",
       "      <td>33.0</td>\n",
       "      <td>35.0</td>\n",
       "      <td>1.7</td>\n",
       "      <td>10.4</td>\n",
       "    </tr>\n",
       "    <tr>\n",
       "      <th>6</th>\n",
       "      <td>Füzuli rayonu</td>\n",
       "      <td>3.75</td>\n",
       "      <td>3.95</td>\n",
       "      <td>3.54</td>\n",
       "      <td>3.80</td>\n",
       "      <td>4.03</td>\n",
       "      <td>4.23</td>\n",
       "      <td>1.85</td>\n",
       "      <td>1.90</td>\n",
       "      <td>4.57</td>\n",
       "      <td>4.84</td>\n",
       "      <td>32.0</td>\n",
       "      <td>33.0</td>\n",
       "      <td>11.9</td>\n",
       "      <td>15.2</td>\n",
       "    </tr>\n",
       "    <tr>\n",
       "      <th>7</th>\n",
       "      <td>Ağdam rayonu</td>\n",
       "      <td>3.68</td>\n",
       "      <td>3.82</td>\n",
       "      <td>3.45</td>\n",
       "      <td>3.62</td>\n",
       "      <td>3.90</td>\n",
       "      <td>4.06</td>\n",
       "      <td>1.78</td>\n",
       "      <td>1.88</td>\n",
       "      <td>4.46</td>\n",
       "      <td>4.65</td>\n",
       "      <td>33.0</td>\n",
       "      <td>34.0</td>\n",
       "      <td>9.5</td>\n",
       "      <td>14.1</td>\n",
       "    </tr>\n",
       "    <tr>\n",
       "      <th>8</th>\n",
       "      <td>Kəlbəcər rayonu</td>\n",
       "      <td>3.47</td>\n",
       "      <td>4.31</td>\n",
       "      <td>3.07</td>\n",
       "      <td>4.47</td>\n",
       "      <td>3.66</td>\n",
       "      <td>4.34</td>\n",
       "      <td>1.69</td>\n",
       "      <td>1.80</td>\n",
       "      <td>4.13</td>\n",
       "      <td>5.05</td>\n",
       "      <td>34.0</td>\n",
       "      <td>36.0</td>\n",
       "      <td>-1.8</td>\n",
       "      <td>8.4</td>\n",
       "    </tr>\n",
       "    <tr>\n",
       "      <th>9</th>\n",
       "      <td>Xocavənd rayonu</td>\n",
       "      <td>3.58</td>\n",
       "      <td>3.99</td>\n",
       "      <td>3.34</td>\n",
       "      <td>3.96</td>\n",
       "      <td>3.84</td>\n",
       "      <td>4.19</td>\n",
       "      <td>1.70</td>\n",
       "      <td>1.87</td>\n",
       "      <td>4.32</td>\n",
       "      <td>4.81</td>\n",
       "      <td>32.0</td>\n",
       "      <td>34.0</td>\n",
       "      <td>5.3</td>\n",
       "      <td>11.6</td>\n",
       "    </tr>\n",
       "    <tr>\n",
       "      <th>10</th>\n",
       "      <td>Tərtər rayonu</td>\n",
       "      <td>3.37</td>\n",
       "      <td>3.83</td>\n",
       "      <td>2.96</td>\n",
       "      <td>3.67</td>\n",
       "      <td>3.56</td>\n",
       "      <td>4.04</td>\n",
       "      <td>1.69</td>\n",
       "      <td>1.84</td>\n",
       "      <td>4.00</td>\n",
       "      <td>4.65</td>\n",
       "      <td>33.0</td>\n",
       "      <td>34.0</td>\n",
       "      <td>3.2</td>\n",
       "      <td>14.0</td>\n",
       "    </tr>\n",
       "    <tr>\n",
       "      <th>11</th>\n",
       "      <td>Xankəndi  şəhər</td>\n",
       "      <td>3.40</td>\n",
       "      <td>3.73</td>\n",
       "      <td>3.05</td>\n",
       "      <td>3.49</td>\n",
       "      <td>3.63</td>\n",
       "      <td>3.89</td>\n",
       "      <td>1.71</td>\n",
       "      <td>1.83</td>\n",
       "      <td>4.06</td>\n",
       "      <td>4.48</td>\n",
       "      <td>34.0</td>\n",
       "      <td>34.0</td>\n",
       "      <td>5.3</td>\n",
       "      <td>10.0</td>\n",
       "    </tr>\n",
       "  </tbody>\n",
       "</table>\n",
       "</div>"
      ],
      "text/plain": [
       "             Region  PVOUT_MIN  PVOUT_MAX  DNI_MIN  DNI_MAX  GHI_MIN  GHI_MAX  \\\n",
       "0   Zəngilan rayonu       3.76       4.04     3.57     3.96     4.07     4.31   \n",
       "1    Qubadlı rayonu       3.82       4.07     3.64     3.99     4.04     4.28   \n",
       "2   Cəbrayıl rayonu       3.94       4.12     3.82     4.12     4.22     4.34   \n",
       "3      Laçin rayonu       3.71       4.33     3.41     4.56     3.84     4.36   \n",
       "4        Şuşa şəhər       3.52       4.00     3.21     3.86     3.73     4.13   \n",
       "5    Əsgəran rayonu       3.33       3.82     2.92     3.58     3.54     3.94   \n",
       "6     Füzuli rayonu       3.75       3.95     3.54     3.80     4.03     4.23   \n",
       "7      Ağdam rayonu       3.68       3.82     3.45     3.62     3.90     4.06   \n",
       "8   Kəlbəcər rayonu       3.47       4.31     3.07     4.47     3.66     4.34   \n",
       "9   Xocavənd rayonu       3.58       3.99     3.34     3.96     3.84     4.19   \n",
       "10    Tərtər rayonu       3.37       3.83     2.96     3.67     3.56     4.04   \n",
       "11  Xankəndi  şəhər       3.40       3.73     3.05     3.49     3.63     3.89   \n",
       "\n",
       "    DIF_MIN  DIF_MAX  GTI_MIN  GTI_MAX  OPTA_MIN  OPTA_MAX  TEMP_MIN  TEMP_MAX  \n",
       "0      1.76     1.90     4.60     4.96      33.0      34.0       9.2      15.2  \n",
       "1      1.77     1.88     4.61     4.94      33.0      34.0       7.7      12.8  \n",
       "2      1.77     1.90     4.84     5.02       NaN       NaN       NaN       NaN  \n",
       "3      1.68     1.82     4.40     5.10      33.0      36.0      -2.3       8.7  \n",
       "4      1.70     1.79     4.20     4.80      34.0      35.0       2.9       8.2  \n",
       "5      1.70     1.83     3.96     4.55      33.0      35.0       1.7      10.4  \n",
       "6      1.85     1.90     4.57     4.84      32.0      33.0      11.9      15.2  \n",
       "7      1.78     1.88     4.46     4.65      33.0      34.0       9.5      14.1  \n",
       "8      1.69     1.80     4.13     5.05      34.0      36.0      -1.8       8.4  \n",
       "9      1.70     1.87     4.32     4.81      32.0      34.0       5.3      11.6  \n",
       "10     1.69     1.84     4.00     4.65      33.0      34.0       3.2      14.0  \n",
       "11     1.71     1.83     4.06     4.48      34.0      34.0       5.3      10.0  "
      ]
     },
     "execution_count": 5,
     "metadata": {},
     "output_type": "execute_result"
    }
   ],
   "source": [
    "df_kar"
   ]
  },
  {
   "cell_type": "code",
   "execution_count": 6,
   "id": "8b90236b",
   "metadata": {},
   "outputs": [],
   "source": [
    "from sklearn.preprocessing import MinMaxScaler"
   ]
  },
  {
   "cell_type": "code",
   "execution_count": 7,
   "id": "4b2d2a47",
   "metadata": {},
   "outputs": [],
   "source": [
    "scaler = MinMaxScaler()\n",
    "df_kar[\"scaled_PVOUT_MAX\"] = scaler.fit_transform(df_kar[[\"PVOUT_MIN\"]])"
   ]
  },
  {
   "cell_type": "markdown",
   "id": "7bbf62e2",
   "metadata": {},
   "source": [
    "# Importing Geojson file"
   ]
  },
  {
   "cell_type": "code",
   "execution_count": 8,
   "id": "48ed2257",
   "metadata": {},
   "outputs": [],
   "source": [
    "Azerbaijan_district_2 = json.load(open(\"Karabakh_final.geojson\",encoding=\"utf8\"))"
   ]
  },
  {
   "cell_type": "code",
   "execution_count": 9,
   "id": "81c39962",
   "metadata": {},
   "outputs": [],
   "source": [
    "state_id_map = {}\n",
    "for feature in Azerbaijan_district_2[\"features\"]:\n",
    "    feature[\"id\"] = feature[\"properties\"][\"OBJECTID\"]\n",
    "    state_id_map[feature[\"properties\"][\"NAME_AZ\"]]=feature[\"id\"]"
   ]
  },
  {
   "cell_type": "code",
   "execution_count": 10,
   "id": "2dcab05e",
   "metadata": {},
   "outputs": [
    {
     "data": {
      "text/plain": [
       "{'Laçin rayonu': 2,\n",
       " 'Şuşa şəhər': 7,\n",
       " 'Qubadlı rayonu': 3,\n",
       " 'Zəngilan rayonu': 4,\n",
       " 'Cəbrayıl rayonu': 5,\n",
       " 'Füzuli rayonu': 6,\n",
       " 'Xocavənd rayonu': 8,\n",
       " 'Kəlbəcər rayonu': 1,\n",
       " 'Tərtər rayonu': 12,\n",
       " 'Ağdam rayonu': 9,\n",
       " 'Xankəndi  şəhər': 10,\n",
       " 'Əsgəran rayonu': 11}"
      ]
     },
     "execution_count": 10,
     "metadata": {},
     "output_type": "execute_result"
    }
   ],
   "source": [
    "state_id_map"
   ]
  },
  {
   "cell_type": "code",
   "execution_count": 11,
   "id": "94f779e9",
   "metadata": {},
   "outputs": [],
   "source": [
    "df_kar[\"id\"] = df_kar[\"Region\"].apply(lambda x:state_id_map[x])"
   ]
  },
  {
   "cell_type": "code",
   "execution_count": 12,
   "id": "b7bd4afe",
   "metadata": {},
   "outputs": [],
   "source": [
    "Azerbaijan_district_2 = json.load(open(\"karabakh_final.geojson\",encoding=\"utf8\"))"
   ]
  },
  {
   "cell_type": "code",
   "execution_count": 13,
   "id": "853b6b7b",
   "metadata": {},
   "outputs": [],
   "source": [
    "state_id_map = {}\n",
    "for feature in Azerbaijan_district_2[\"features\"]:\n",
    "    feature[\"id\"] = feature[\"properties\"][\"OBJECTID\"]\n",
    "    state_id_map[feature[\"properties\"][\"NAME_AZ\"]]=feature[\"id\"]"
   ]
  },
  {
   "cell_type": "code",
   "execution_count": 14,
   "id": "7d316570",
   "metadata": {},
   "outputs": [
    {
     "data": {
      "text/plain": [
       "{'Laçin rayonu': 2,\n",
       " 'Şuşa şəhər': 7,\n",
       " 'Qubadlı rayonu': 3,\n",
       " 'Zəngilan rayonu': 4,\n",
       " 'Cəbrayıl rayonu': 5,\n",
       " 'Füzuli rayonu': 6,\n",
       " 'Xocavənd rayonu': 8,\n",
       " 'Kəlbəcər rayonu': 1,\n",
       " 'Tərtər rayonu': 12,\n",
       " 'Ağdam rayonu': 9,\n",
       " 'Xankəndi  şəhər': 10,\n",
       " 'Əsgəran rayonu': 11}"
      ]
     },
     "execution_count": 14,
     "metadata": {},
     "output_type": "execute_result"
    }
   ],
   "source": [
    "state_id_map"
   ]
  },
  {
   "cell_type": "code",
   "execution_count": 15,
   "id": "00739293",
   "metadata": {
    "scrolled": true
   },
   "outputs": [
    {
     "data": {
      "text/plain": [
       "Index(['Region', 'PVOUT_MIN', 'PVOUT_MAX', 'DNI_MIN', 'DNI_MAX', 'GHI_MIN',\n",
       "       'GHI_MAX', 'DIF_MIN', 'DIF_MAX', 'GTI_MIN', 'GTI_MAX', 'OPTA_MIN',\n",
       "       'OPTA_MAX', 'TEMP_MIN', 'TEMP_MAX', 'scaled_PVOUT_MAX', 'id'],\n",
       "      dtype='object')"
      ]
     },
     "execution_count": 15,
     "metadata": {},
     "output_type": "execute_result"
    }
   ],
   "source": [
    "df_kar.columns"
   ]
  },
  {
   "cell_type": "code",
   "execution_count": 19,
   "id": "65207584",
   "metadata": {},
   "outputs": [],
   "source": [
    "import plotly.io as pio\n",
    "pio.renderers.default = \"browser\""
   ]
  },
  {
   "cell_type": "code",
   "execution_count": 20,
   "id": "02c120fd",
   "metadata": {},
   "outputs": [],
   "source": [
    "fig = px.choropleth_mapbox(df_kar, geojson=Azerbaijan_district_2, color=\"scaled_PVOUT_MAX\",\n",
    "                           locations=\"Region\", featureidkey=\"properties.NAME_AZ\",\n",
    "                           center={\"lat\": 39.758362, \"lon\": 46.747490},\n",
    "                           mapbox_style=\"white-bg\", zoom=9)\n",
    "fig.update_layout(margin={\"r\":1,\"t\":1,\"l\":1,\"b\":1})\n",
    "fig.show()"
   ]
  },
  {
   "cell_type": "code",
   "execution_count": null,
   "id": "f3f0da71",
   "metadata": {},
   "outputs": [],
   "source": [
    " "
   ]
  }
 ],
 "metadata": {
  "kernelspec": {
   "display_name": "Python 3 (ipykernel)",
   "language": "python",
   "name": "python3"
  },
  "language_info": {
   "codemirror_mode": {
    "name": "ipython",
    "version": 3
   },
   "file_extension": ".py",
   "mimetype": "text/x-python",
   "name": "python",
   "nbconvert_exporter": "python",
   "pygments_lexer": "ipython3",
   "version": "3.9.7"
  }
 },
 "nbformat": 4,
 "nbformat_minor": 5
}
